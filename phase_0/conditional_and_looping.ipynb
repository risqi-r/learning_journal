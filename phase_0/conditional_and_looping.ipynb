{
 "cells": [
  {
   "cell_type": "code",
   "execution_count": null,
   "metadata": {},
   "outputs": [],
   "source": [
    "angka = 15\n",
    "if angka%2 == 0:\n",
    "    print(f\"{angka} adalah bilangan genap\")\n",
    "else:\n",
    "    print(f\"{angka} adalah bilangan ganjil\")"
   ]
  },
  {
   "cell_type": "code",
   "execution_count": 8,
   "metadata": {},
   "outputs": [
    {
     "name": "stdout",
     "output_type": "stream",
     "text": [
      "Kamu mendapat nilai A\n"
     ]
    }
   ],
   "source": [
    "# tidak mencakup nilai float\n",
    "# karena range merupakan iterator, sehingga step +1\n",
    "# range(0, 5) = range (0, 5, 1) = 0, 1, 2, 3, 4\n",
    "nilai = 100\n",
    "if nilai in range(85,101):\n",
    "    print(\"Kamu mendapat nilai A\")\n",
    "elif nilai in range(65, 85):\n",
    "    print(\"Kamu mendapat nilai B\")\n",
    "elif nilai in range(50, 65):\n",
    "    print(\"Kamu mendapat nilai C\")\n",
    "elif nilai in range(25, 50):\n",
    "    print(\"Kamu mendapat nilai D\")\n",
    "elif nilai in range(0, 25):\n",
    "    print(\"Kamu mendapat nilai E\")\n",
    "else:\n",
    "    print(\"Sepertinya, ada kesalahan nilai. Rentang nilai hanya 0-100\")"
   ]
  },
  {
   "cell_type": "code",
   "execution_count": 18,
   "metadata": {},
   "outputs": [
    {
     "name": "stdout",
     "output_type": "stream",
     "text": [
      "Saya ulangi, anda memesan wrwerwe, werwerw, rwerw, werwer, wewrwds.\n"
     ]
    }
   ],
   "source": [
    "# developer restoran\n",
    "daftar_makanan = []\n",
    "kata = ''\n",
    "while True:\n",
    "    kata = input('Mau pesen makan apa?')\n",
    "    if kata.lower() != 'cukup':\n",
    "        daftar_makanan.append(kata)\n",
    "    else:\n",
    "        break\n",
    "print(f\"Saya ulangi, anda memesan {', '.join(daftar_makanan)}.\")\n"
   ]
  }
 ],
 "metadata": {
  "interpreter": {
   "hash": "bca462c5a209821cf5347e92ff016ade049e12b956e1a0b245f793e236e1401d"
  },
  "kernelspec": {
   "display_name": "Python 3.9.0 64-bit",
   "language": "python",
   "name": "python3"
  },
  "language_info": {
   "codemirror_mode": {
    "name": "ipython",
    "version": 3
   },
   "file_extension": ".py",
   "mimetype": "text/x-python",
   "name": "python",
   "nbconvert_exporter": "python",
   "pygments_lexer": "ipython3",
   "version": "3.9.0"
  },
  "orig_nbformat": 4
 },
 "nbformat": 4,
 "nbformat_minor": 2
}
