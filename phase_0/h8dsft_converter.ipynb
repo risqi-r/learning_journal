{
 "cells": [
  {
   "cell_type": "markdown",
   "metadata": {},
   "source": [
    "# Non-Graded Assignment 2"
   ]
  },
  {
   "cell_type": "markdown",
   "metadata": {},
   "source": [
    "Non-Graded Assignment ini dibuat guna mengevaluasi pembelajaran  pada  Hacktiv8  Data  Science  Fulltime Program khususnya pada konsep Function."
   ]
  },
  {
   "cell_type": "markdown",
   "metadata": {},
   "source": [
    "## Assignment Instructions"
   ]
  },
  {
   "cell_type": "markdown",
   "metadata": {},
   "source": [
    "- Buatlah sebuah function yang dapat mengkonversi suhu dari kelvin ke celcius, dan celcius ke kelvin.\n",
    "- Buatlah sebuah function yang dapat mengkonversi suhu ke fahrenheit. Tambahkan parameter untuk memastikan bahwa argumen yang dimasukan adalah celcius atau kelvin. Panggil function yang pertama jika diperlukan.\n",
    "- Buatlah sebuah function yang dapat mengkonversi suhu dari fahrenheit. Berikan argumen untuk memastikan bahwa outputnya dalah celcius atau kelvin.\n",
    "- Berikan dokumentasi pada setiap baris kode yang kalian tulis.\n"
   ]
  },
  {
   "cell_type": "markdown",
   "metadata": {},
   "source": [
    "## Task Completion"
   ]
  },
  {
   "cell_type": "markdown",
   "metadata": {},
   "source": [
    "Create a whole function that converts temperature between fahrenheit, celsius, and kelvin."
   ]
  },
  {
   "cell_type": "code",
   "execution_count": 49,
   "metadata": {},
   "outputs": [],
   "source": [
    "# kelvin to celcius function\n",
    "def kelvin_to_celsius(kelvin):\n",
    "    return kelvin - 273.15\n",
    "\n",
    "# celsius to kelvin function\n",
    "def celsius_to_kelvin(celsius):\n",
    "    return celsius + 273.15\n",
    "\n",
    "# kelvin to fahrenheit function\n",
    "def kelvin_to_fahrenheit(kelvin):\n",
    "    return kelvin_to_celsius(kelvin) * 9/5 + 32\n",
    "\n",
    "# celsius to fahrenheit function\n",
    "def celsius_to_fahrenheit(celsius):\n",
    "    return celsius * 9/5 + 32 \n",
    "\n",
    "# fahrenheit to celsius function\n",
    "def fahrenheit_to_celsius(fahrenheit):\n",
    "    return (fahrenheit - 32) * 5/9\n",
    "\n",
    "# fahrenheit to kelvin function\n",
    "def fahrenheit_to_kelvin(fahrenheit):\n",
    "    return celsius_to_kelvin(fahrenheit_to_celsius(fahrenheit))"
   ]
  },
  {
   "cell_type": "markdown",
   "metadata": {},
   "source": [
    "Create a temperature converter from the functions that have been created above."
   ]
  },
  {
   "cell_type": "markdown",
   "metadata": {},
   "source": [
    "1. The first argument is the temperature value we want to convert (e.g., 32, 0, 235, etc.).\n",
    "2. The second argument is he temperature unit or name we want to convert (e.g., F or Fahrenheit, C or Celsius, and, K or Kelvin).\n",
    "3. The third argument is the temperature unit or name we want to convert to that temperature (e.g., F or Fahrenheit, C or Celsius, and, K or Kelvin)."
   ]
  },
  {
   "cell_type": "code",
   "execution_count": 44,
   "metadata": {},
   "outputs": [],
   "source": [
    "def temp_convert(value, from_temp, to_temp):\n",
    "    # convert value to float if they're string\n",
    "    try:\n",
    "        value = float(value)\n",
    "    except:\n",
    "        raise ValueError(\"First arguments must be in numeric form.\")\n",
    "    \n",
    "    # avoid case sensitivity\n",
    "    from_temp = from_temp.lower()\n",
    "    to_temp = to_temp.lower()\n",
    "    \n",
    "    temp = ('celsius', 'kelvin', 'fahrenheit', 'c', 'k', 'v')\n",
    "    # check argument in from_temp and to_temp contain one of in temp variable and raise value error if not met.\n",
    "    if (from_temp in temp) or (to_temp in temp):\n",
    "        # convert value from Celsius to Kelvin or Fahrenheit\n",
    "        if from_temp in ('celsius', 'c'):\n",
    "            if to_temp in ('kelvin', 'k'):\n",
    "                return celsius_to_kelvin(value)\n",
    "            elif to_temp in ('fahrenheit', 'f'):\n",
    "                return celsius_to_fahrenheit(value)\n",
    "            else:\n",
    "                # if from_temp is the same as to_temp\n",
    "                return value\n",
    "        # convert value from Kelvin to Celsius or Fahrenheit\n",
    "        elif from_temp in ('kelvin', 'k'):\n",
    "            if to_temp in ('celsius', 'c'):\n",
    "                return kelvin_to_celsius(value)\n",
    "            elif to_temp in ('fahrenheit', 'f'):\n",
    "                return kelvin_to_fahrenheit(value)\n",
    "            else:\n",
    "                # if from_temp is the same as to_temp\n",
    "                return value\n",
    "        # convert value from Fahrenheit to Celsius or Kelvin\n",
    "        else:\n",
    "            if to_temp in ('celsius', 'c'):\n",
    "                return fahrenheit_to_celsius(value)\n",
    "            elif to_temp in ('kelvin', 'k'):\n",
    "                return fahrenheit_to_kelvin(value)\n",
    "            else:\n",
    "                # if from_temp is the same as to_temp\n",
    "                return value\n",
    "    else:\n",
    "        raise ValueError(f\"Second and third arguments only accepts inputs {' ,'.join(temp)} (case-insensitive).\")\n"
   ]
  },
  {
   "cell_type": "code",
   "execution_count": 58,
   "metadata": {},
   "outputs": [
    {
     "data": {
      "text/plain": [
       "-402.07"
      ]
     },
     "execution_count": 58,
     "metadata": {},
     "output_type": "execute_result"
    }
   ],
   "source": [
    "# test the function\n",
    "temp_convert(32, 'k', 'f')"
   ]
  }
 ],
 "metadata": {
  "interpreter": {
   "hash": "bca462c5a209821cf5347e92ff016ade049e12b956e1a0b245f793e236e1401d"
  },
  "kernelspec": {
   "display_name": "Python 3.9.0 64-bit",
   "language": "python",
   "name": "python3"
  },
  "language_info": {
   "codemirror_mode": {
    "name": "ipython",
    "version": 3
   },
   "file_extension": ".py",
   "mimetype": "text/x-python",
   "name": "python",
   "nbconvert_exporter": "python",
   "pygments_lexer": "ipython3",
   "version": "3.9.0"
  },
  "orig_nbformat": 4
 },
 "nbformat": 4,
 "nbformat_minor": 2
}
